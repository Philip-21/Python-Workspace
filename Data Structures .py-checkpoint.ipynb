{
 "cells": [
  {
   "cell_type": "code",
   "execution_count": 1,
   "metadata": {},
   "outputs": [
    {
     "name": "stdout",
     "output_type": "stream",
     "text": [
      "[6, 10, 14, 18, 22, 26, 30]\n"
     ]
    }
   ],
   "source": [
    "#Generate a Python list of all the even numbers between 4 to 30\n",
    "list1 =[4, 6, 8, 10, 12, 14, 16, 18, 20, 22, 24, 26, 28, 30]\n",
    "print(list1[1: :2]) # :2 means difference of two btwn the elements in the list\n"
   ]
  },
  {
   "cell_type": "code",
   "execution_count": 39,
   "metadata": {
    "scrolled": true
   },
   "outputs": [
    {
     "name": "stdout",
     "output_type": "stream",
     "text": [
      "[3, 9, 15, 21]\n",
      "[4, 8, 12, 16, 20, 24, 28]\n"
     ]
    }
   ],
   "source": [
    "#: Given two lists create a third list by picking an odd-index element from the first list and even index elements from the second.\n",
    "list1= [3, 6, 9, 12, 15, 18, 21]\n",
    "list2 = [4, 7, 8, 9, 12, 15, 16, 17, 20, 23, 24, 27, 28]\n",
    "print(list1[0: :2])\n",
    "print(list2[0: :2])"
   ]
  },
  {
   "cell_type": "code",
   "execution_count": 56,
   "metadata": {},
   "outputs": [
    {
     "name": "stdout",
     "output_type": "stream",
     "text": [
      "[24, 33, 56, 78, 89, 88]\n",
      "count of each element {24: 1, 33: 1, 56: 1, 78: 1, 89: 1, 88: 1}\n"
     ]
    }
   ],
   "source": [
    "#Iterate a given list and count the occurrence of each element and create a dictionary to show the count of each element            f\n",
    "MyList = [24, 33, 56, 78, 89, 88, ]\n",
    "print(MyList)\n",
    "\n",
    "count = dict()\n",
    "for item in MyList :\n",
    "    if item in count :\n",
    "        count[item] =+ 1 \n",
    "    else :\n",
    "        count[item] = 1\n",
    "        \n",
    "print(f'count of each element', count)        \n"
   ]
  },
  {
   "cell_type": "code",
   "execution_count": 3,
   "metadata": {},
   "outputs": [
    {
     "name": "stdout",
     "output_type": "stream",
     "text": [
      "original list [34, 32, 45, 57, 67, 89, 34]\n",
      "list after removing elements from index 4 [34, 32, 45, 57, 89, 34]\n",
      "List after Adding element at index 2  [34, 32, 67, 45, 57, 89, 34]\n",
      "List after Adding element at last  [34, 32, 67, 45, 57, 89, 34, 67]\n"
     ]
    }
   ],
   "source": [
    "#Given a list, remove the element at index 4 and add it to the 2nd position and at the end of the list\n",
    "new_list = [34, 32, 45, 57, 67, 89, 34] \n",
    "print('original list', new_list)\n",
    "\n",
    "element = new_list.pop(4) #removing index 4 \n",
    "print('list after removing elements from index 4', new_list)\n",
    "\n",
    "new_list.insert(2, element)\n",
    "print(\"List after Adding element at index 2 \", new_list)\n",
    "\n",
    "new_list.append(element)\n",
    "print(\"List after Adding element at last \",new_list)\n"
   ]
  },
  {
   "cell_type": "code",
   "execution_count": 68,
   "metadata": {},
   "outputs": [
    {
     "name": "stdout",
     "output_type": "stream",
     "text": [
      "[23, 45, 67, 46, 39, 41, 55, 60]\n",
      "chunk 1 [23, 45]\n",
      "after reversing it [45, 23]\n",
      "chunk 2 [67, 46]\n",
      "after reversing it [46, 67]\n",
      "chunk 3 [39, 41, 55, 60]\n",
      "after reversing it [60, 55, 41, 39]\n"
     ]
    }
   ],
   "source": [
    "# Given a list slice it into 3 equal chunks and reverse each chunk\n",
    "the_list = [23, 45, 67, 46, 39, 41, 55, 60]\n",
    "print(the_list) \n",
    "length = len(the_list)\n",
    "chunksize = int(length/3)\n",
    "start = 0 \n",
    "end = chunksize \n",
    "for i in range(1, 4) : #range of 1 to 3 \n",
    "    indexes =slice(start, end)\n",
    "    newchunk = the_list[indexes]\n",
    "    print('chunk', i , newchunk)\n",
    "    print(f'after reversing it', list(reversed(newchunk)))\n",
    "    start = end \n",
    "    if (i != 2) :\n",
    "        end += chunksize\n",
    "    else :\n",
    "        end += length - chunksize\n",
    "        \n",
    "        "
   ]
  },
  {
   "cell_type": "code",
   "execution_count": null,
   "metadata": {},
   "outputs": [],
   "source": [
    "#Write a program to converting degree celcius to farenheith\n",
    "def main() :\n",
    "    convert = 9/5 + 32\n",
    "    numb1 = int(input('first number')) * convert\n",
    "    numb2 = int(input('second number')) * convert\n",
    "main()    \n",
    "    \n",
    "    \n",
    "    \n",
    "\n",
    "\n"
   ]
  },
  {
   "cell_type": "code",
   "execution_count": null,
   "metadata": {},
   "outputs": [],
   "source": [
    "\n",
    "    \n",
    "    \n"
   ]
  },
  {
   "cell_type": "code",
   "execution_count": null,
   "metadata": {},
   "outputs": [],
   "source": []
  }
 ],
 "metadata": {
  "kernelspec": {
   "display_name": "Python 3",
   "language": "python",
   "name": "python3"
  },
  "language_info": {
   "codemirror_mode": {
    "name": "ipython",
    "version": 3
   },
   "file_extension": ".py",
   "mimetype": "text/x-python",
   "name": "python",
   "nbconvert_exporter": "python",
   "pygments_lexer": "ipython3",
   "version": "3.8.10"
  }
 },
 "nbformat": 4,
 "nbformat_minor": 4
}
